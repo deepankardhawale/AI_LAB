{
 "cells": [
  {
   "cell_type": "code",
   "execution_count": 1,
   "id": "2e955093",
   "metadata": {},
   "outputs": [],
   "source": [
    "import pandas as pd\n",
    "import numpy as np "
   ]
  },
  {
   "cell_type": "code",
   "execution_count": 6,
   "id": "373580c6",
   "metadata": {},
   "outputs": [],
   "source": [
    "df=pd.read_csv('User_Data.csv')"
   ]
  },
  {
   "cell_type": "code",
   "execution_count": 7,
   "id": "d77421b6",
   "metadata": {},
   "outputs": [
    {
     "data": {
      "text/html": [
       "<div>\n",
       "<style scoped>\n",
       "    .dataframe tbody tr th:only-of-type {\n",
       "        vertical-align: middle;\n",
       "    }\n",
       "\n",
       "    .dataframe tbody tr th {\n",
       "        vertical-align: top;\n",
       "    }\n",
       "\n",
       "    .dataframe thead th {\n",
       "        text-align: right;\n",
       "    }\n",
       "</style>\n",
       "<table border=\"1\" class=\"dataframe\">\n",
       "  <thead>\n",
       "    <tr style=\"text-align: right;\">\n",
       "      <th></th>\n",
       "      <th>User ID</th>\n",
       "      <th>Gender</th>\n",
       "      <th>Age</th>\n",
       "      <th>EstimatedSalary</th>\n",
       "      <th>Purchased</th>\n",
       "    </tr>\n",
       "  </thead>\n",
       "  <tbody>\n",
       "    <tr>\n",
       "      <th>0</th>\n",
       "      <td>15624510</td>\n",
       "      <td>Male</td>\n",
       "      <td>19</td>\n",
       "      <td>19000</td>\n",
       "      <td>0</td>\n",
       "    </tr>\n",
       "    <tr>\n",
       "      <th>1</th>\n",
       "      <td>15810944</td>\n",
       "      <td>Male</td>\n",
       "      <td>35</td>\n",
       "      <td>20000</td>\n",
       "      <td>0</td>\n",
       "    </tr>\n",
       "    <tr>\n",
       "      <th>2</th>\n",
       "      <td>15668575</td>\n",
       "      <td>Female</td>\n",
       "      <td>26</td>\n",
       "      <td>43000</td>\n",
       "      <td>0</td>\n",
       "    </tr>\n",
       "    <tr>\n",
       "      <th>3</th>\n",
       "      <td>15603246</td>\n",
       "      <td>Female</td>\n",
       "      <td>27</td>\n",
       "      <td>57000</td>\n",
       "      <td>0</td>\n",
       "    </tr>\n",
       "    <tr>\n",
       "      <th>4</th>\n",
       "      <td>15804002</td>\n",
       "      <td>Male</td>\n",
       "      <td>19</td>\n",
       "      <td>76000</td>\n",
       "      <td>0</td>\n",
       "    </tr>\n",
       "  </tbody>\n",
       "</table>\n",
       "</div>"
      ],
      "text/plain": [
       "    User ID  Gender  Age  EstimatedSalary  Purchased\n",
       "0  15624510    Male   19            19000          0\n",
       "1  15810944    Male   35            20000          0\n",
       "2  15668575  Female   26            43000          0\n",
       "3  15603246  Female   27            57000          0\n",
       "4  15804002    Male   19            76000          0"
      ]
     },
     "execution_count": 7,
     "metadata": {},
     "output_type": "execute_result"
    }
   ],
   "source": [
    "df.head()"
   ]
  },
  {
   "cell_type": "code",
   "execution_count": 8,
   "id": "65da18e8",
   "metadata": {},
   "outputs": [],
   "source": [
    "x=df[['Age','EstimatedSalary']]\n",
    "y=df['Purchased']"
   ]
  },
  {
   "cell_type": "code",
   "execution_count": 9,
   "id": "0e1de62b",
   "metadata": {},
   "outputs": [],
   "source": [
    "from sklearn.model_selection import train_test_split"
   ]
  },
  {
   "cell_type": "code",
   "execution_count": 10,
   "id": "3bf3e7e8",
   "metadata": {},
   "outputs": [],
   "source": [
    "x_train, x_test, y_train, y_test = train_test_split(x,y,test_size=0.30)"
   ]
  },
  {
   "cell_type": "code",
   "execution_count": 11,
   "id": "f2eeef6e",
   "metadata": {},
   "outputs": [
    {
     "data": {
      "text/plain": [
       "(280, 2)"
      ]
     },
     "execution_count": 11,
     "metadata": {},
     "output_type": "execute_result"
    }
   ],
   "source": [
    "x_train.shape"
   ]
  },
  {
   "cell_type": "code",
   "execution_count": 12,
   "id": "51c7cad3",
   "metadata": {},
   "outputs": [
    {
     "data": {
      "text/plain": [
       "Age                0\n",
       "EstimatedSalary    0\n",
       "dtype: int64"
      ]
     },
     "execution_count": 12,
     "metadata": {},
     "output_type": "execute_result"
    }
   ],
   "source": [
    "x_train.isna().sum()"
   ]
  },
  {
   "cell_type": "code",
   "execution_count": 13,
   "id": "1b133c16",
   "metadata": {},
   "outputs": [],
   "source": [
    "from sklearn.impute import SimpleImputer"
   ]
  },
  {
   "cell_type": "code",
   "execution_count": 14,
   "id": "1d5232c4",
   "metadata": {},
   "outputs": [],
   "source": [
    "imputer = SimpleImputer(missing_values=np.nan, strategy='mean')"
   ]
  },
  {
   "cell_type": "code",
   "execution_count": 15,
   "id": "cad5e34b",
   "metadata": {},
   "outputs": [
    {
     "data": {
      "text/html": [
       "<style>#sk-container-id-1 {color: black;background-color: white;}#sk-container-id-1 pre{padding: 0;}#sk-container-id-1 div.sk-toggleable {background-color: white;}#sk-container-id-1 label.sk-toggleable__label {cursor: pointer;display: block;width: 100%;margin-bottom: 0;padding: 0.3em;box-sizing: border-box;text-align: center;}#sk-container-id-1 label.sk-toggleable__label-arrow:before {content: \"▸\";float: left;margin-right: 0.25em;color: #696969;}#sk-container-id-1 label.sk-toggleable__label-arrow:hover:before {color: black;}#sk-container-id-1 div.sk-estimator:hover label.sk-toggleable__label-arrow:before {color: black;}#sk-container-id-1 div.sk-toggleable__content {max-height: 0;max-width: 0;overflow: hidden;text-align: left;background-color: #f0f8ff;}#sk-container-id-1 div.sk-toggleable__content pre {margin: 0.2em;color: black;border-radius: 0.25em;background-color: #f0f8ff;}#sk-container-id-1 input.sk-toggleable__control:checked~div.sk-toggleable__content {max-height: 200px;max-width: 100%;overflow: auto;}#sk-container-id-1 input.sk-toggleable__control:checked~label.sk-toggleable__label-arrow:before {content: \"▾\";}#sk-container-id-1 div.sk-estimator input.sk-toggleable__control:checked~label.sk-toggleable__label {background-color: #d4ebff;}#sk-container-id-1 div.sk-label input.sk-toggleable__control:checked~label.sk-toggleable__label {background-color: #d4ebff;}#sk-container-id-1 input.sk-hidden--visually {border: 0;clip: rect(1px 1px 1px 1px);clip: rect(1px, 1px, 1px, 1px);height: 1px;margin: -1px;overflow: hidden;padding: 0;position: absolute;width: 1px;}#sk-container-id-1 div.sk-estimator {font-family: monospace;background-color: #f0f8ff;border: 1px dotted black;border-radius: 0.25em;box-sizing: border-box;margin-bottom: 0.5em;}#sk-container-id-1 div.sk-estimator:hover {background-color: #d4ebff;}#sk-container-id-1 div.sk-parallel-item::after {content: \"\";width: 100%;border-bottom: 1px solid gray;flex-grow: 1;}#sk-container-id-1 div.sk-label:hover label.sk-toggleable__label {background-color: #d4ebff;}#sk-container-id-1 div.sk-serial::before {content: \"\";position: absolute;border-left: 1px solid gray;box-sizing: border-box;top: 0;bottom: 0;left: 50%;z-index: 0;}#sk-container-id-1 div.sk-serial {display: flex;flex-direction: column;align-items: center;background-color: white;padding-right: 0.2em;padding-left: 0.2em;position: relative;}#sk-container-id-1 div.sk-item {position: relative;z-index: 1;}#sk-container-id-1 div.sk-parallel {display: flex;align-items: stretch;justify-content: center;background-color: white;position: relative;}#sk-container-id-1 div.sk-item::before, #sk-container-id-1 div.sk-parallel-item::before {content: \"\";position: absolute;border-left: 1px solid gray;box-sizing: border-box;top: 0;bottom: 0;left: 50%;z-index: -1;}#sk-container-id-1 div.sk-parallel-item {display: flex;flex-direction: column;z-index: 1;position: relative;background-color: white;}#sk-container-id-1 div.sk-parallel-item:first-child::after {align-self: flex-end;width: 50%;}#sk-container-id-1 div.sk-parallel-item:last-child::after {align-self: flex-start;width: 50%;}#sk-container-id-1 div.sk-parallel-item:only-child::after {width: 0;}#sk-container-id-1 div.sk-dashed-wrapped {border: 1px dashed gray;margin: 0 0.4em 0.5em 0.4em;box-sizing: border-box;padding-bottom: 0.4em;background-color: white;}#sk-container-id-1 div.sk-label label {font-family: monospace;font-weight: bold;display: inline-block;line-height: 1.2em;}#sk-container-id-1 div.sk-label-container {text-align: center;}#sk-container-id-1 div.sk-container {/* jupyter's `normalize.less` sets `[hidden] { display: none; }` but bootstrap.min.css set `[hidden] { display: none !important; }` so we also need the `!important` here to be able to override the default hidden behavior on the sphinx rendered scikit-learn.org. See: https://github.com/scikit-learn/scikit-learn/issues/21755 */display: inline-block !important;position: relative;}#sk-container-id-1 div.sk-text-repr-fallback {display: none;}</style><div id=\"sk-container-id-1\" class=\"sk-top-container\"><div class=\"sk-text-repr-fallback\"><pre>SimpleImputer()</pre><b>In a Jupyter environment, please rerun this cell to show the HTML representation or trust the notebook. <br />On GitHub, the HTML representation is unable to render, please try loading this page with nbviewer.org.</b></div><div class=\"sk-container\" hidden><div class=\"sk-item\"><div class=\"sk-estimator sk-toggleable\"><input class=\"sk-toggleable__control sk-hidden--visually\" id=\"sk-estimator-id-1\" type=\"checkbox\" checked><label for=\"sk-estimator-id-1\" class=\"sk-toggleable__label sk-toggleable__label-arrow\">SimpleImputer</label><div class=\"sk-toggleable__content\"><pre>SimpleImputer()</pre></div></div></div></div></div>"
      ],
      "text/plain": [
       "SimpleImputer()"
      ]
     },
     "execution_count": 15,
     "metadata": {},
     "output_type": "execute_result"
    }
   ],
   "source": [
    "imputer.fit(x_train[['Age','EstimatedSalary']])"
   ]
  },
  {
   "cell_type": "code",
   "execution_count": 16,
   "id": "f50d61af",
   "metadata": {},
   "outputs": [],
   "source": [
    "x_train[['Age','EstimatedSalary']] = imputer.transform(x_train[['Age','EstimatedSalary']])"
   ]
  },
  {
   "cell_type": "code",
   "execution_count": 17,
   "id": "6dfc12d8",
   "metadata": {},
   "outputs": [],
   "source": [
    "from sklearn import preprocessing"
   ]
  },
  {
   "cell_type": "code",
   "execution_count": 18,
   "id": "c669e762",
   "metadata": {},
   "outputs": [],
   "source": [
    "from sklearn.preprocessing import MinMaxScaler"
   ]
  },
  {
   "cell_type": "code",
   "execution_count": 19,
   "id": "2d28eb01",
   "metadata": {},
   "outputs": [],
   "source": [
    "scalar=MinMaxScaler()"
   ]
  },
  {
   "cell_type": "code",
   "execution_count": 20,
   "id": "7a13a4d6",
   "metadata": {},
   "outputs": [
    {
     "data": {
      "text/html": [
       "<style>#sk-container-id-2 {color: black;background-color: white;}#sk-container-id-2 pre{padding: 0;}#sk-container-id-2 div.sk-toggleable {background-color: white;}#sk-container-id-2 label.sk-toggleable__label {cursor: pointer;display: block;width: 100%;margin-bottom: 0;padding: 0.3em;box-sizing: border-box;text-align: center;}#sk-container-id-2 label.sk-toggleable__label-arrow:before {content: \"▸\";float: left;margin-right: 0.25em;color: #696969;}#sk-container-id-2 label.sk-toggleable__label-arrow:hover:before {color: black;}#sk-container-id-2 div.sk-estimator:hover label.sk-toggleable__label-arrow:before {color: black;}#sk-container-id-2 div.sk-toggleable__content {max-height: 0;max-width: 0;overflow: hidden;text-align: left;background-color: #f0f8ff;}#sk-container-id-2 div.sk-toggleable__content pre {margin: 0.2em;color: black;border-radius: 0.25em;background-color: #f0f8ff;}#sk-container-id-2 input.sk-toggleable__control:checked~div.sk-toggleable__content {max-height: 200px;max-width: 100%;overflow: auto;}#sk-container-id-2 input.sk-toggleable__control:checked~label.sk-toggleable__label-arrow:before {content: \"▾\";}#sk-container-id-2 div.sk-estimator input.sk-toggleable__control:checked~label.sk-toggleable__label {background-color: #d4ebff;}#sk-container-id-2 div.sk-label input.sk-toggleable__control:checked~label.sk-toggleable__label {background-color: #d4ebff;}#sk-container-id-2 input.sk-hidden--visually {border: 0;clip: rect(1px 1px 1px 1px);clip: rect(1px, 1px, 1px, 1px);height: 1px;margin: -1px;overflow: hidden;padding: 0;position: absolute;width: 1px;}#sk-container-id-2 div.sk-estimator {font-family: monospace;background-color: #f0f8ff;border: 1px dotted black;border-radius: 0.25em;box-sizing: border-box;margin-bottom: 0.5em;}#sk-container-id-2 div.sk-estimator:hover {background-color: #d4ebff;}#sk-container-id-2 div.sk-parallel-item::after {content: \"\";width: 100%;border-bottom: 1px solid gray;flex-grow: 1;}#sk-container-id-2 div.sk-label:hover label.sk-toggleable__label {background-color: #d4ebff;}#sk-container-id-2 div.sk-serial::before {content: \"\";position: absolute;border-left: 1px solid gray;box-sizing: border-box;top: 0;bottom: 0;left: 50%;z-index: 0;}#sk-container-id-2 div.sk-serial {display: flex;flex-direction: column;align-items: center;background-color: white;padding-right: 0.2em;padding-left: 0.2em;position: relative;}#sk-container-id-2 div.sk-item {position: relative;z-index: 1;}#sk-container-id-2 div.sk-parallel {display: flex;align-items: stretch;justify-content: center;background-color: white;position: relative;}#sk-container-id-2 div.sk-item::before, #sk-container-id-2 div.sk-parallel-item::before {content: \"\";position: absolute;border-left: 1px solid gray;box-sizing: border-box;top: 0;bottom: 0;left: 50%;z-index: -1;}#sk-container-id-2 div.sk-parallel-item {display: flex;flex-direction: column;z-index: 1;position: relative;background-color: white;}#sk-container-id-2 div.sk-parallel-item:first-child::after {align-self: flex-end;width: 50%;}#sk-container-id-2 div.sk-parallel-item:last-child::after {align-self: flex-start;width: 50%;}#sk-container-id-2 div.sk-parallel-item:only-child::after {width: 0;}#sk-container-id-2 div.sk-dashed-wrapped {border: 1px dashed gray;margin: 0 0.4em 0.5em 0.4em;box-sizing: border-box;padding-bottom: 0.4em;background-color: white;}#sk-container-id-2 div.sk-label label {font-family: monospace;font-weight: bold;display: inline-block;line-height: 1.2em;}#sk-container-id-2 div.sk-label-container {text-align: center;}#sk-container-id-2 div.sk-container {/* jupyter's `normalize.less` sets `[hidden] { display: none; }` but bootstrap.min.css set `[hidden] { display: none !important; }` so we also need the `!important` here to be able to override the default hidden behavior on the sphinx rendered scikit-learn.org. See: https://github.com/scikit-learn/scikit-learn/issues/21755 */display: inline-block !important;position: relative;}#sk-container-id-2 div.sk-text-repr-fallback {display: none;}</style><div id=\"sk-container-id-2\" class=\"sk-top-container\"><div class=\"sk-text-repr-fallback\"><pre>MinMaxScaler()</pre><b>In a Jupyter environment, please rerun this cell to show the HTML representation or trust the notebook. <br />On GitHub, the HTML representation is unable to render, please try loading this page with nbviewer.org.</b></div><div class=\"sk-container\" hidden><div class=\"sk-item\"><div class=\"sk-estimator sk-toggleable\"><input class=\"sk-toggleable__control sk-hidden--visually\" id=\"sk-estimator-id-2\" type=\"checkbox\" checked><label for=\"sk-estimator-id-2\" class=\"sk-toggleable__label sk-toggleable__label-arrow\">MinMaxScaler</label><div class=\"sk-toggleable__content\"><pre>MinMaxScaler()</pre></div></div></div></div></div>"
      ],
      "text/plain": [
       "MinMaxScaler()"
      ]
     },
     "execution_count": 20,
     "metadata": {},
     "output_type": "execute_result"
    }
   ],
   "source": [
    "scalar.fit(x_train)"
   ]
  },
  {
   "cell_type": "code",
   "execution_count": 21,
   "id": "4c369ee5",
   "metadata": {},
   "outputs": [],
   "source": [
    "x_train_scaled=scalar.transform(x_train)\n",
    "x_test=scalar.transform(x_test)"
   ]
  },
  {
   "cell_type": "code",
   "execution_count": 22,
   "id": "33cc6b5f",
   "metadata": {},
   "outputs": [
    {
     "data": {
      "text/plain": [
       "array([[0.71428571, 0.77037037],\n",
       "       [0.42857143, 0.28888889],\n",
       "       [0.4047619 , 0.33333333],\n",
       "       [0.11904762, 0.37777778],\n",
       "       [0.73809524, 0.93333333],\n",
       "       [0.52380952, 0.44444444],\n",
       "       [0.4047619 , 0.60740741],\n",
       "       [0.54761905, 0.42222222],\n",
       "       [0.45238095, 0.31111111],\n",
       "       [0.30952381, 0.31851852],\n",
       "       [0.45238095, 0.95555556],\n",
       "       [0.4047619 , 0.44444444],\n",
       "       [0.35714286, 0.4       ],\n",
       "       [0.83333333, 0.4962963 ],\n",
       "       [0.28571429, 0.47407407],\n",
       "       [0.4047619 , 0.41481481],\n",
       "       [0.57142857, 0.65925926],\n",
       "       [0.52380952, 0.68148148],\n",
       "       [0.54761905, 0.26666667],\n",
       "       [1.        , 0.14074074],\n",
       "       [0.23809524, 0.12592593],\n",
       "       [0.23809524, 0.51851852],\n",
       "       [0.83333333, 0.94814815],\n",
       "       [0.42857143, 0.13333333],\n",
       "       [0.71428571, 0.14814815],\n",
       "       [0.04761905, 0.25185185],\n",
       "       [0.23809524, 0.32592593],\n",
       "       [0.5       , 0.41481481],\n",
       "       [0.45238095, 0.41481481],\n",
       "       [0.45238095, 0.2962963 ],\n",
       "       [0.45238095, 0.44444444],\n",
       "       [0.69047619, 0.68148148],\n",
       "       [0.02380952, 0.51851852],\n",
       "       [0.64285714, 0.85925926],\n",
       "       [0.88095238, 0.81481481],\n",
       "       [0.64285714, 0.12592593],\n",
       "       [0.19047619, 0.00740741],\n",
       "       [0.54761905, 0.42222222],\n",
       "       [0.5       , 0.79259259],\n",
       "       [0.71428571, 0.19259259],\n",
       "       [0.69047619, 0.25925926],\n",
       "       [0.30952381, 0.43703704],\n",
       "       [0.73809524, 0.37037037],\n",
       "       [0.19047619, 0.11111111],\n",
       "       [0.        , 0.39259259],\n",
       "       [0.97619048, 0.45185185],\n",
       "       [0.95238095, 0.59259259],\n",
       "       [0.04761905, 0.52592593],\n",
       "       [0.71428571, 0.13333333],\n",
       "       [0.57142857, 0.36296296],\n",
       "       [0.19047619, 0.14814815],\n",
       "       [0.47619048, 0.26666667],\n",
       "       [0.4047619 , 0.08888889],\n",
       "       [0.69047619, 0.66666667],\n",
       "       [0.52380952, 0.94074074],\n",
       "       [0.45238095, 0.27407407],\n",
       "       [0.38095238, 0.42222222],\n",
       "       [0.33333333, 0.02222222],\n",
       "       [0.64285714, 0.22222222],\n",
       "       [0.71428571, 0.6       ],\n",
       "       [0.35714286, 0.33333333],\n",
       "       [0.66666667, 0.47407407],\n",
       "       [0.80952381, 0.04444444],\n",
       "       [0.4047619 , 0.31111111],\n",
       "       [0.30952381, 0.        ],\n",
       "       [0.02380952, 0.04444444],\n",
       "       [0.14285714, 0.31851852],\n",
       "       [0.78571429, 0.97037037],\n",
       "       [0.35714286, 0.20740741],\n",
       "       [0.66666667, 0.19259259],\n",
       "       [0.45238095, 0.46666667],\n",
       "       [0.69047619, 0.14074074],\n",
       "       [0.19047619, 0.48148148],\n",
       "       [0.4047619 , 0.21481481],\n",
       "       [0.4047619 , 0.42962963],\n",
       "       [0.73809524, 0.54814815],\n",
       "       [0.54761905, 0.11111111],\n",
       "       [0.26190476, 0.0962963 ],\n",
       "       [0.14285714, 0.12592593],\n",
       "       [0.45238095, 0.45925926],\n",
       "       [0.4047619 , 0.32592593],\n",
       "       [0.5952381 , 0.87407407],\n",
       "       [0.76190476, 0.54074074],\n",
       "       [0.38095238, 0.07407407],\n",
       "       [0.5       , 0.32592593],\n",
       "       [0.71428571, 0.85925926],\n",
       "       [0.57142857, 0.68888889],\n",
       "       [0.23809524, 0.32592593],\n",
       "       [0.66666667, 0.6       ],\n",
       "       [0.35714286, 0.11851852],\n",
       "       [0.45238095, 0.13333333],\n",
       "       [0.4047619 , 0.42222222],\n",
       "       [0.02380952, 0.45185185],\n",
       "       [0.73809524, 0.0962963 ],\n",
       "       [0.4047619 , 0.03703704],\n",
       "       [0.19047619, 0.48888889],\n",
       "       [0.42857143, 0.76296296],\n",
       "       [0.5       , 0.41481481],\n",
       "       [0.47619048, 0.41481481],\n",
       "       [0.16666667, 0.53333333],\n",
       "       [0.92857143, 0.08148148],\n",
       "       [0.95238095, 0.23703704],\n",
       "       [0.33333333, 0.75555556],\n",
       "       [0.73809524, 0.0962963 ],\n",
       "       [0.76190476, 0.03703704],\n",
       "       [0.80952381, 0.91111111],\n",
       "       [0.5       , 0.42962963],\n",
       "       [0.73809524, 0.15555556],\n",
       "       [0.64285714, 0.05185185],\n",
       "       [0.30952381, 0.54814815],\n",
       "       [0.4047619 , 0.68888889],\n",
       "       [0.9047619 , 0.33333333],\n",
       "       [0.        , 0.21481481],\n",
       "       [0.52380952, 0.37037037],\n",
       "       [0.76190476, 0.15555556],\n",
       "       [0.54761905, 0.47407407],\n",
       "       [0.02380952, 0.08148148],\n",
       "       [0.33333333, 0.77777778],\n",
       "       [0.54761905, 0.32592593],\n",
       "       [0.4047619 , 0.44444444],\n",
       "       [0.92857143, 0.13333333],\n",
       "       [0.4047619 , 0.25925926],\n",
       "       [0.45238095, 0.47407407],\n",
       "       [0.16666667, 0.48148148],\n",
       "       [0.19047619, 0.76296296],\n",
       "       [0.45238095, 0.97037037],\n",
       "       [0.66666667, 0.75555556],\n",
       "       [0.42857143, 0.44444444],\n",
       "       [0.52380952, 0.31111111],\n",
       "       [0.11904762, 0.24444444],\n",
       "       [0.45238095, 0.57777778],\n",
       "       [0.33333333, 0.62962963],\n",
       "       [0.83333333, 0.14074074],\n",
       "       [0.5952381 , 0.71851852],\n",
       "       [0.76190476, 0.21481481],\n",
       "       [0.69047619, 0.26666667],\n",
       "       [0.28571429, 0.53333333],\n",
       "       [0.57142857, 0.40740741],\n",
       "       [0.47619048, 0.32592593],\n",
       "       [1.        , 0.68888889],\n",
       "       [0.97619048, 0.1037037 ],\n",
       "       [0.88095238, 0.17777778],\n",
       "       [0.19047619, 0.42222222],\n",
       "       [0.04761905, 0.43703704],\n",
       "       [0.45238095, 0.9037037 ],\n",
       "       [0.07142857, 0.00740741],\n",
       "       [0.33333333, 0.52592593],\n",
       "       [0.92857143, 0.33333333],\n",
       "       [0.80952381, 1.        ],\n",
       "       [0.57142857, 0.48148148],\n",
       "       [0.69047619, 0.25185185],\n",
       "       [0.54761905, 0.22222222],\n",
       "       [0.4047619 , 0.54074074],\n",
       "       [0.07142857, 0.39259259],\n",
       "       [0.54761905, 0.48148148],\n",
       "       [0.28571429, 0.74814815],\n",
       "       [0.35714286, 0.99259259],\n",
       "       [0.14285714, 0.54814815],\n",
       "       [0.57142857, 0.37037037],\n",
       "       [0.47619048, 0.2962963 ],\n",
       "       [0.42857143, 0.62222222],\n",
       "       [0.52380952, 0.32592593],\n",
       "       [0.21428571, 0.28888889],\n",
       "       [0.4047619 , 0.2962963 ],\n",
       "       [0.45238095, 0.48148148],\n",
       "       [0.30952381, 0.76296296],\n",
       "       [0.85714286, 0.40740741],\n",
       "       [0.73809524, 0.43703704],\n",
       "       [0.30952381, 0.02222222],\n",
       "       [0.54761905, 0.42222222],\n",
       "       [0.11904762, 0.35555556],\n",
       "       [0.54761905, 0.35555556],\n",
       "       [0.45238095, 0.34814815],\n",
       "       [0.97619048, 0.54074074],\n",
       "       [0.97619048, 0.2       ],\n",
       "       [0.0952381 , 0.02222222],\n",
       "       [0.38095238, 0.71851852],\n",
       "       [0.66666667, 0.0962963 ],\n",
       "       [0.21428571, 0.31111111],\n",
       "       [0.47619048, 0.25925926],\n",
       "       [0.57142857, 0.55555556],\n",
       "       [0.64285714, 0.05185185],\n",
       "       [0.54761905, 0.27407407],\n",
       "       [0.30952381, 0.37777778],\n",
       "       [0.4047619 , 0.56296296],\n",
       "       [0.47619048, 0.72592593],\n",
       "       [0.42857143, 0.95555556],\n",
       "       [0.14285714, 0.51111111],\n",
       "       [0.        , 0.4962963 ],\n",
       "       [0.26190476, 0.48148148],\n",
       "       [0.28571429, 0.        ],\n",
       "       [0.57142857, 0.48148148],\n",
       "       [0.26190476, 0.5037037 ],\n",
       "       [0.54761905, 0.42222222],\n",
       "       [0.47619048, 0.34074074],\n",
       "       [0.66666667, 0.4962963 ],\n",
       "       [0.61904762, 0.91851852],\n",
       "       [0.33333333, 0.02222222],\n",
       "       [0.45238095, 0.28148148],\n",
       "       [0.21428571, 0.51111111],\n",
       "       [0.19047619, 0.12592593],\n",
       "       [0.5       , 0.88148148],\n",
       "       [0.19047619, 0.52592593],\n",
       "       [0.47619048, 0.41481481],\n",
       "       [0.04761905, 0.4962963 ],\n",
       "       [0.66666667, 0.12592593],\n",
       "       [0.04761905, 0.4962963 ],\n",
       "       [0.42857143, 0.27407407],\n",
       "       [0.52380952, 0.31111111],\n",
       "       [0.11904762, 0.03703704],\n",
       "       [0.26190476, 0.34074074],\n",
       "       [0.28571429, 0.68148148],\n",
       "       [0.28571429, 0.25185185],\n",
       "       [0.0952381 , 0.35555556],\n",
       "       [0.45238095, 0.48148148],\n",
       "       [0.23809524, 0.53333333],\n",
       "       [0.47619048, 0.71851852],\n",
       "       [0.92857143, 0.43703704],\n",
       "       [0.23809524, 0.16296296],\n",
       "       [0.52380952, 0.23703704],\n",
       "       [0.30952381, 0.39259259],\n",
       "       [0.19047619, 0.48148148],\n",
       "       [0.52380952, 0.41481481],\n",
       "       [0.26190476, 0.20740741],\n",
       "       [0.69047619, 0.07407407],\n",
       "       [0.45238095, 0.42222222],\n",
       "       [0.73809524, 0.54074074],\n",
       "       [0.02380952, 0.40740741],\n",
       "       [0.14285714, 0.08888889],\n",
       "       [0.04761905, 0.15555556],\n",
       "       [0.5       , 0.88148148],\n",
       "       [0.54761905, 0.53333333],\n",
       "       [0.5952381 , 0.84444444],\n",
       "       [0.16666667, 0.13333333],\n",
       "       [0.97619048, 0.94814815],\n",
       "       [0.97619048, 0.5037037 ],\n",
       "       [0.47619048, 0.37037037],\n",
       "       [0.4047619 , 0.45925926],\n",
       "       [0.28571429, 0.88888889],\n",
       "       [0.28571429, 0.01481481],\n",
       "       [0.57142857, 0.28148148],\n",
       "       [0.42857143, 0.81481481],\n",
       "       [0.57142857, 0.42962963],\n",
       "       [0.73809524, 0.52592593],\n",
       "       [0.52380952, 0.34074074],\n",
       "       [0.5       , 0.44444444],\n",
       "       [0.0952381 , 0.48888889],\n",
       "       [0.5       , 0.45925926],\n",
       "       [1.        , 0.2       ],\n",
       "       [0.47619048, 0.34074074],\n",
       "       [0.4047619 , 0.25925926],\n",
       "       [0.26190476, 0.23703704],\n",
       "       [0.28571429, 0.54814815],\n",
       "       [0.80952381, 0.73333333],\n",
       "       [0.4047619 , 0.07407407],\n",
       "       [0.64285714, 0.08148148],\n",
       "       [0.52380952, 0.44444444],\n",
       "       [0.4047619 , 0.17777778],\n",
       "       [0.23809524, 0.47407407],\n",
       "       [0.69047619, 0.03703704],\n",
       "       [0.71428571, 0.93333333],\n",
       "       [0.71428571, 0.1037037 ],\n",
       "       [1.        , 0.2       ],\n",
       "       [0.21428571, 0.31851852],\n",
       "       [0.28571429, 0.34814815],\n",
       "       [0.80952381, 0.17037037],\n",
       "       [0.57142857, 0.47407407],\n",
       "       [0.38095238, 0.20740741],\n",
       "       [0.21428571, 0.9037037 ],\n",
       "       [0.85714286, 0.68888889],\n",
       "       [0.21428571, 0.01481481],\n",
       "       [0.45238095, 0.40740741],\n",
       "       [0.95238095, 0.05925926],\n",
       "       [0.66666667, 0.32592593],\n",
       "       [0.26190476, 0.5037037 ],\n",
       "       [0.78571429, 0.88148148],\n",
       "       [0.21428571, 0.54814815],\n",
       "       [0.83333333, 0.42222222],\n",
       "       [0.04761905, 0.05925926],\n",
       "       [0.66666667, 0.05925926]])"
      ]
     },
     "execution_count": 22,
     "metadata": {},
     "output_type": "execute_result"
    }
   ],
   "source": [
    "x_train_scaled"
   ]
  },
  {
   "cell_type": "code",
   "execution_count": 23,
   "id": "51dafb98",
   "metadata": {},
   "outputs": [],
   "source": [
    "from sklearn.linear_model import LogisticRegression\n",
    "model=LogisticRegression()"
   ]
  },
  {
   "cell_type": "code",
   "execution_count": 24,
   "id": "b4d90935",
   "metadata": {},
   "outputs": [
    {
     "data": {
      "text/html": [
       "<style>#sk-container-id-3 {color: black;background-color: white;}#sk-container-id-3 pre{padding: 0;}#sk-container-id-3 div.sk-toggleable {background-color: white;}#sk-container-id-3 label.sk-toggleable__label {cursor: pointer;display: block;width: 100%;margin-bottom: 0;padding: 0.3em;box-sizing: border-box;text-align: center;}#sk-container-id-3 label.sk-toggleable__label-arrow:before {content: \"▸\";float: left;margin-right: 0.25em;color: #696969;}#sk-container-id-3 label.sk-toggleable__label-arrow:hover:before {color: black;}#sk-container-id-3 div.sk-estimator:hover label.sk-toggleable__label-arrow:before {color: black;}#sk-container-id-3 div.sk-toggleable__content {max-height: 0;max-width: 0;overflow: hidden;text-align: left;background-color: #f0f8ff;}#sk-container-id-3 div.sk-toggleable__content pre {margin: 0.2em;color: black;border-radius: 0.25em;background-color: #f0f8ff;}#sk-container-id-3 input.sk-toggleable__control:checked~div.sk-toggleable__content {max-height: 200px;max-width: 100%;overflow: auto;}#sk-container-id-3 input.sk-toggleable__control:checked~label.sk-toggleable__label-arrow:before {content: \"▾\";}#sk-container-id-3 div.sk-estimator input.sk-toggleable__control:checked~label.sk-toggleable__label {background-color: #d4ebff;}#sk-container-id-3 div.sk-label input.sk-toggleable__control:checked~label.sk-toggleable__label {background-color: #d4ebff;}#sk-container-id-3 input.sk-hidden--visually {border: 0;clip: rect(1px 1px 1px 1px);clip: rect(1px, 1px, 1px, 1px);height: 1px;margin: -1px;overflow: hidden;padding: 0;position: absolute;width: 1px;}#sk-container-id-3 div.sk-estimator {font-family: monospace;background-color: #f0f8ff;border: 1px dotted black;border-radius: 0.25em;box-sizing: border-box;margin-bottom: 0.5em;}#sk-container-id-3 div.sk-estimator:hover {background-color: #d4ebff;}#sk-container-id-3 div.sk-parallel-item::after {content: \"\";width: 100%;border-bottom: 1px solid gray;flex-grow: 1;}#sk-container-id-3 div.sk-label:hover label.sk-toggleable__label {background-color: #d4ebff;}#sk-container-id-3 div.sk-serial::before {content: \"\";position: absolute;border-left: 1px solid gray;box-sizing: border-box;top: 0;bottom: 0;left: 50%;z-index: 0;}#sk-container-id-3 div.sk-serial {display: flex;flex-direction: column;align-items: center;background-color: white;padding-right: 0.2em;padding-left: 0.2em;position: relative;}#sk-container-id-3 div.sk-item {position: relative;z-index: 1;}#sk-container-id-3 div.sk-parallel {display: flex;align-items: stretch;justify-content: center;background-color: white;position: relative;}#sk-container-id-3 div.sk-item::before, #sk-container-id-3 div.sk-parallel-item::before {content: \"\";position: absolute;border-left: 1px solid gray;box-sizing: border-box;top: 0;bottom: 0;left: 50%;z-index: -1;}#sk-container-id-3 div.sk-parallel-item {display: flex;flex-direction: column;z-index: 1;position: relative;background-color: white;}#sk-container-id-3 div.sk-parallel-item:first-child::after {align-self: flex-end;width: 50%;}#sk-container-id-3 div.sk-parallel-item:last-child::after {align-self: flex-start;width: 50%;}#sk-container-id-3 div.sk-parallel-item:only-child::after {width: 0;}#sk-container-id-3 div.sk-dashed-wrapped {border: 1px dashed gray;margin: 0 0.4em 0.5em 0.4em;box-sizing: border-box;padding-bottom: 0.4em;background-color: white;}#sk-container-id-3 div.sk-label label {font-family: monospace;font-weight: bold;display: inline-block;line-height: 1.2em;}#sk-container-id-3 div.sk-label-container {text-align: center;}#sk-container-id-3 div.sk-container {/* jupyter's `normalize.less` sets `[hidden] { display: none; }` but bootstrap.min.css set `[hidden] { display: none !important; }` so we also need the `!important` here to be able to override the default hidden behavior on the sphinx rendered scikit-learn.org. See: https://github.com/scikit-learn/scikit-learn/issues/21755 */display: inline-block !important;position: relative;}#sk-container-id-3 div.sk-text-repr-fallback {display: none;}</style><div id=\"sk-container-id-3\" class=\"sk-top-container\"><div class=\"sk-text-repr-fallback\"><pre>LogisticRegression()</pre><b>In a Jupyter environment, please rerun this cell to show the HTML representation or trust the notebook. <br />On GitHub, the HTML representation is unable to render, please try loading this page with nbviewer.org.</b></div><div class=\"sk-container\" hidden><div class=\"sk-item\"><div class=\"sk-estimator sk-toggleable\"><input class=\"sk-toggleable__control sk-hidden--visually\" id=\"sk-estimator-id-3\" type=\"checkbox\" checked><label for=\"sk-estimator-id-3\" class=\"sk-toggleable__label sk-toggleable__label-arrow\">LogisticRegression</label><div class=\"sk-toggleable__content\"><pre>LogisticRegression()</pre></div></div></div></div></div>"
      ],
      "text/plain": [
       "LogisticRegression()"
      ]
     },
     "execution_count": 24,
     "metadata": {},
     "output_type": "execute_result"
    }
   ],
   "source": [
    "model.fit(x_train_scaled,y_train)"
   ]
  },
  {
   "cell_type": "code",
   "execution_count": 25,
   "id": "6e14d7d8",
   "metadata": {},
   "outputs": [
    {
     "data": {
      "text/plain": [
       "0.8107142857142857"
      ]
     },
     "execution_count": 25,
     "metadata": {},
     "output_type": "execute_result"
    }
   ],
   "source": [
    "model.score(x_train_scaled,y_train)"
   ]
  },
  {
   "cell_type": "code",
   "execution_count": 26,
   "id": "8b85d5e4",
   "metadata": {},
   "outputs": [
    {
     "data": {
      "text/plain": [
       "0.8666666666666667"
      ]
     },
     "execution_count": 26,
     "metadata": {},
     "output_type": "execute_result"
    }
   ],
   "source": [
    "model.score(x_test,y_test)"
   ]
  },
  {
   "cell_type": "code",
   "execution_count": null,
   "id": "a7d03bfb",
   "metadata": {},
   "outputs": [],
   "source": []
  }
 ],
 "metadata": {
  "kernelspec": {
   "display_name": "Python 3 (ipykernel)",
   "language": "python",
   "name": "python3"
  },
  "language_info": {
   "codemirror_mode": {
    "name": "ipython",
    "version": 3
   },
   "file_extension": ".py",
   "mimetype": "text/x-python",
   "name": "python",
   "nbconvert_exporter": "python",
   "pygments_lexer": "ipython3",
   "version": "3.12.3"
  }
 },
 "nbformat": 4,
 "nbformat_minor": 5
}
